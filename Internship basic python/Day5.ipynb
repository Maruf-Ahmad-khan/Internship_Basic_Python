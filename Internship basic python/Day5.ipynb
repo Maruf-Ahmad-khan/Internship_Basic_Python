{
 "cells": [
  {
   "cell_type": "code",
   "execution_count": 1,
   "metadata": {},
   "outputs": [
    {
     "name": "stdout",
     "output_type": "stream",
     "text": [
      "hi\n"
     ]
    }
   ],
   "source": [
    "# User defined function\n",
    "# statement \n",
    "# expr\n",
    "# exp\n",
    "def kuchhbhi():\n",
    "     print('hi')\n",
    "kuchhbhi()"
   ]
  },
  {
   "cell_type": "code",
   "execution_count": 2,
   "metadata": {},
   "outputs": [],
   "source": [
    "# Types\n",
    "# 1. No input, No output\n",
    "# 2. Input , but no output\n",
    "# 3.No Input , but Output\n",
    "# 4.Both input and output\n",
    "def abc1():\n",
    "     print('It\\'s No input no Output Func')\n",
    "def abc2(x):\n",
    "     print(f'It\\'s fetching x = {x} but No output')\n",
    "def abc3():\n",
    "     return \"Its a string returned from function as output\"\n",
    "def abc4(x,y):\n",
    "     return x*2 , y+x+y"
   ]
  },
  {
   "cell_type": "code",
   "execution_count": 3,
   "metadata": {},
   "outputs": [
    {
     "name": "stdout",
     "output_type": "stream",
     "text": [
      "It's No input no Output Func\n",
      "None\n"
     ]
    }
   ],
   "source": [
    "a = abc1()\n",
    "print(a)"
   ]
  },
  {
   "cell_type": "code",
   "execution_count": 5,
   "metadata": {},
   "outputs": [
    {
     "ename": "NameError",
     "evalue": "name 'x' is not defined",
     "output_type": "error",
     "traceback": [
      "\u001b[1;31m---------------------------------------------------------------------------\u001b[0m",
      "\u001b[1;31mNameError\u001b[0m                                 Traceback (most recent call last)",
      "\u001b[1;32mc:\\Users\\mk744\\Downloads\\Internship basic python\\Day5.ipynb Cell 4\u001b[0m in \u001b[0;36m<cell line: 1>\u001b[1;34m()\u001b[0m\n\u001b[1;32m----> <a href='vscode-notebook-cell:/c%3A/Users/mk744/Downloads/Internship%20basic%20python/Day5.ipynb#W3sZmlsZQ%3D%3D?line=0'>1</a>\u001b[0m b \u001b[39m=\u001b[39m abc2(x)\n\u001b[0;32m      <a href='vscode-notebook-cell:/c%3A/Users/mk744/Downloads/Internship%20basic%20python/Day5.ipynb#W3sZmlsZQ%3D%3D?line=1'>2</a>\u001b[0m \u001b[39mprint\u001b[39m(b)\n",
      "\u001b[1;31mNameError\u001b[0m: name 'x' is not defined"
     ]
    }
   ],
   "source": [
    "b = abc2()\n",
    "print(b)"
   ]
  },
  {
   "cell_type": "code",
   "execution_count": 6,
   "metadata": {},
   "outputs": [
    {
     "name": "stdout",
     "output_type": "stream",
     "text": [
      "Its a string returned from function as output\n"
     ]
    }
   ],
   "source": [
    "c = abc3()\n",
    "print(c)"
   ]
  },
  {
   "cell_type": "code",
   "execution_count": 7,
   "metadata": {},
   "outputs": [
    {
     "name": "stdout",
     "output_type": "stream",
     "text": [
      "(10, 21)\n"
     ]
    }
   ],
   "source": [
    "d= abc4(5,8)\n",
    "print(d)"
   ]
  },
  {
   "cell_type": "code",
   "execution_count": 8,
   "metadata": {},
   "outputs": [
    {
     "name": "stdout",
     "output_type": "stream",
     "text": [
      "10\n",
      "21\n"
     ]
    }
   ],
   "source": [
    "e,f = abc4(5,8)\n",
    "print(e);print(f)"
   ]
  },
  {
   "cell_type": "code",
   "execution_count": 9,
   "metadata": {},
   "outputs": [
    {
     "data": {
      "text/plain": [
       "(16, 18)"
      ]
     },
     "execution_count": 9,
     "metadata": {},
     "output_type": "execute_result"
    }
   ],
   "source": [
    "abc4(y=5,x=8)"
   ]
  },
  {
   "cell_type": "code",
   "execution_count": 10,
   "metadata": {},
   "outputs": [
    {
     "data": {
      "text/plain": [
       "(10, 25)"
      ]
     },
     "execution_count": 10,
     "metadata": {},
     "output_type": "execute_result"
    }
   ],
   "source": [
    "abc4(5,y =10)"
   ]
  },
  {
   "cell_type": "code",
   "execution_count": 11,
   "metadata": {},
   "outputs": [
    {
     "ename": "TypeError",
     "evalue": "abc4() missing 1 required positional argument: 'y'",
     "output_type": "error",
     "traceback": [
      "\u001b[1;31m---------------------------------------------------------------------------\u001b[0m",
      "\u001b[1;31mTypeError\u001b[0m                                 Traceback (most recent call last)",
      "\u001b[1;32mc:\\Users\\mk744\\Downloads\\Internship basic python\\Day5.ipynb Cell 10\u001b[0m in \u001b[0;36m<cell line: 3>\u001b[1;34m()\u001b[0m\n\u001b[0;32m      <a href='vscode-notebook-cell:/c%3A/Users/mk744/Downloads/Internship%20basic%20python/Day5.ipynb#X12sZmlsZQ%3D%3D?line=0'>1</a>\u001b[0m \u001b[39m# you can not do like this\u001b[39;00m\n\u001b[0;32m      <a href='vscode-notebook-cell:/c%3A/Users/mk744/Downloads/Internship%20basic%20python/Day5.ipynb#X12sZmlsZQ%3D%3D?line=1'>2</a>\u001b[0m \u001b[39m# abc4(y = 9, 6)\u001b[39;00m\n\u001b[1;32m----> <a href='vscode-notebook-cell:/c%3A/Users/mk744/Downloads/Internship%20basic%20python/Day5.ipynb#X12sZmlsZQ%3D%3D?line=2'>3</a>\u001b[0m abc4(\u001b[39m5\u001b[39;49m)\n",
      "\u001b[1;31mTypeError\u001b[0m: abc4() missing 1 required positional argument: 'y'"
     ]
    }
   ],
   "source": [
    "# you can not do like this\n",
    "# abc4(y = 9, 6)\n",
    "abc4(5)"
   ]
  },
  {
   "cell_type": "code",
   "execution_count": 12,
   "metadata": {},
   "outputs": [
    {
     "ename": "TypeError",
     "evalue": "abc4() takes 2 positional arguments but 3 were given",
     "output_type": "error",
     "traceback": [
      "\u001b[1;31m---------------------------------------------------------------------------\u001b[0m",
      "\u001b[1;31mTypeError\u001b[0m                                 Traceback (most recent call last)",
      "\u001b[1;32mc:\\Users\\mk744\\Downloads\\Internship basic python\\Day5.ipynb Cell 11\u001b[0m in \u001b[0;36m<cell line: 1>\u001b[1;34m()\u001b[0m\n\u001b[1;32m----> <a href='vscode-notebook-cell:/c%3A/Users/mk744/Downloads/Internship%20basic%20python/Day5.ipynb#X13sZmlsZQ%3D%3D?line=0'>1</a>\u001b[0m abc4(\u001b[39m4\u001b[39;49m,\u001b[39m5\u001b[39;49m,\u001b[39m6\u001b[39;49m)\n",
      "\u001b[1;31mTypeError\u001b[0m: abc4() takes 2 positional arguments but 3 were given"
     ]
    }
   ],
   "source": [
    "abc4(4,5,6)"
   ]
  },
  {
   "cell_type": "code",
   "execution_count": 13,
   "metadata": {},
   "outputs": [
    {
     "ename": "TypeError",
     "evalue": "abc4() got an unexpected keyword argument 'c'",
     "output_type": "error",
     "traceback": [
      "\u001b[1;31m---------------------------------------------------------------------------\u001b[0m",
      "\u001b[1;31mTypeError\u001b[0m                                 Traceback (most recent call last)",
      "\u001b[1;32mc:\\Users\\mk744\\Downloads\\Internship basic python\\Day5.ipynb Cell 12\u001b[0m in \u001b[0;36m<cell line: 1>\u001b[1;34m()\u001b[0m\n\u001b[1;32m----> <a href='vscode-notebook-cell:/c%3A/Users/mk744/Downloads/Internship%20basic%20python/Day5.ipynb#X14sZmlsZQ%3D%3D?line=0'>1</a>\u001b[0m abc4(x\u001b[39m=\u001b[39;49m\u001b[39m9\u001b[39;49m,y\u001b[39m=\u001b[39;49m\u001b[39m5\u001b[39;49m,c\u001b[39m=\u001b[39;49m\u001b[39m10\u001b[39;49m)\n",
      "\u001b[1;31mTypeError\u001b[0m: abc4() got an unexpected keyword argument 'c'"
     ]
    }
   ],
   "source": [
    "abc4(x=9,y=5,c=10)"
   ]
  },
  {
   "cell_type": "code",
   "execution_count": 15,
   "metadata": {},
   "outputs": [
    {
     "name": "stdout",
     "output_type": "stream",
     "text": [
      "(2, 1)\n",
      "(8, 4)\n",
      "(8, 14)\n"
     ]
    }
   ],
   "source": [
    "# Default value to function argument\n",
    "def abc5(x=1,y=0):\n",
    "     return x*2, y+x+y\n",
    "print(abc5())\n",
    "print(abc5(4))\n",
    "print(abc5(4,5))\n"
   ]
  },
  {
   "cell_type": "code",
   "execution_count": 20,
   "metadata": {},
   "outputs": [
    {
     "name": "stdout",
     "output_type": "stream",
     "text": [
      "2 1\n",
      "()\n",
      "{}\n"
     ]
    }
   ],
   "source": [
    "# *args, **kwargs\n",
    "def abc6(x=1, y=0, *p, **q):\n",
    "     print(x*2, y+x+y)\n",
    "     print(p)\n",
    "     print(q)\n",
    "abc6()"
   ]
  },
  {
   "cell_type": "code",
   "execution_count": 21,
   "metadata": {},
   "outputs": [
    {
     "name": "stdout",
     "output_type": "stream",
     "text": [
      "10 13\n",
      "()\n",
      "{}\n"
     ]
    }
   ],
   "source": [
    "abc6(5,4)"
   ]
  },
  {
   "cell_type": "code",
   "execution_count": 22,
   "metadata": {},
   "outputs": [
    {
     "name": "stdout",
     "output_type": "stream",
     "text": [
      "10 13\n",
      "(9,)\n",
      "{}\n"
     ]
    }
   ],
   "source": [
    "abc6(5,4,9)"
   ]
  },
  {
   "cell_type": "code",
   "execution_count": 23,
   "metadata": {},
   "outputs": [
    {
     "name": "stdout",
     "output_type": "stream",
     "text": [
      "10 13\n",
      "(9, 10, 34, 456, 'hi', 23)\n",
      "{}\n"
     ]
    }
   ],
   "source": [
    "abc6(5,4,9,10,34,456,'hi',23)"
   ]
  },
  {
   "cell_type": "code",
   "execution_count": 24,
   "metadata": {},
   "outputs": [
    {
     "name": "stdout",
     "output_type": "stream",
     "text": [
      "10 13\n",
      "(9, 10, 34, 456, 'hi', 23)\n",
      "{'m': 23, 'n': [4, 7, 8]}\n"
     ]
    }
   ],
   "source": [
    "abc6(5,4,9,10,34,456,'hi',23, m = 23, n = [4,7,8] )"
   ]
  },
  {
   "cell_type": "code",
   "execution_count": 25,
   "metadata": {},
   "outputs": [
    {
     "ename": "TypeError",
     "evalue": "abc6() got multiple values for argument 'x'",
     "output_type": "error",
     "traceback": [
      "\u001b[1;31m---------------------------------------------------------------------------\u001b[0m",
      "\u001b[1;31mTypeError\u001b[0m                                 Traceback (most recent call last)",
      "\u001b[1;32mc:\\Users\\mk744\\Downloads\\Internship basic python\\Day5.ipynb Cell 19\u001b[0m in \u001b[0;36m<cell line: 1>\u001b[1;34m()\u001b[0m\n\u001b[1;32m----> <a href='vscode-notebook-cell:/c%3A/Users/mk744/Downloads/Internship%20basic%20python/Day5.ipynb#X25sZmlsZQ%3D%3D?line=0'>1</a>\u001b[0m abc6(\u001b[39m5\u001b[39;49m,\u001b[39m4\u001b[39;49m,\u001b[39m9\u001b[39;49m,\u001b[39m10\u001b[39;49m,\u001b[39m34\u001b[39;49m,\u001b[39m456\u001b[39;49m,\u001b[39m'\u001b[39;49m\u001b[39mhi\u001b[39;49m\u001b[39m'\u001b[39;49m,\u001b[39m23\u001b[39;49m, x\u001b[39m=\u001b[39;49m\u001b[39m34\u001b[39;49m)\n",
      "\u001b[1;31mTypeError\u001b[0m: abc6() got multiple values for argument 'x'"
     ]
    }
   ],
   "source": [
    "abc6(5,4,9,10,34,456,'hi',23, x=34)"
   ]
  },
  {
   "cell_type": "code",
   "execution_count": 37,
   "metadata": {},
   "outputs": [
    {
     "name": "stdout",
     "output_type": "stream",
     "text": [
      "division by zero\n",
      "0\n",
      "Marte marte raaz btake jayega\n",
      "Kaam ho gaya\n"
     ]
    }
   ],
   "source": [
    "# Errors & Exception Handling\n",
    "# try-except-else-finally\n",
    "# Built-in Exceptions\n",
    "try:\n",
    "     a = 10\n",
    "     b = int(input(\"Enter a number:\"))\n",
    "     print(a/b)\n",
    "except ValueError as err:\n",
    "     print(err)\n",
    "     print(a)\n",
    "except ZeroDivisionError as err:\n",
    "     print(err)\n",
    "     print(b)\n",
    "except KeyboardInterrupt as err:\n",
    "     print('oh aap kaam karna hi nhi chaahte')\n",
    "except Exception as err:\n",
    "     print(err)\n",
    "else:\n",
    "     print('sab badhiya')\n",
    "finally:\n",
    "     print('Marte marte raaz btake jayega')\n",
    "print('Kaam ho gaya')"
   ]
  },
  {
   "cell_type": "code",
   "execution_count": 38,
   "metadata": {},
   "outputs": [
    {
     "name": "stdout",
     "output_type": "stream",
     "text": [
      "10\n",
      "10\n"
     ]
    }
   ],
   "source": [
    "# In python a fuction can be \n",
    "# assigned to a variable\n",
    "# can be passed as an argument to a function\n",
    "# defined inside another function\n",
    "# returned from another function\n",
    "\n",
    "a = 10\n",
    "def fun():\n",
    "     print(a)\n",
    "print(a)\n",
    "fun()"
   ]
  },
  {
   "cell_type": "code",
   "execution_count": 41,
   "metadata": {},
   "outputs": [
    {
     "name": "stdout",
     "output_type": "stream",
     "text": [
      "10\n",
      "30\n",
      "30\n"
     ]
    }
   ],
   "source": [
    "a = 10\n",
    "def fun():\n",
    "     global a\n",
    "     a += 20\n",
    "     print(a)\n",
    "print(a)\n",
    "fun()\n",
    "print(a)"
   ]
  },
  {
   "cell_type": "code",
   "execution_count": 43,
   "metadata": {},
   "outputs": [],
   "source": [
    "def func(x,y):\n",
    "     return x + y\n",
    "k = func"
   ]
  },
  {
   "cell_type": "code",
   "execution_count": 44,
   "metadata": {},
   "outputs": [
    {
     "data": {
      "text/plain": [
       "<function __main__.func(x, y)>"
      ]
     },
     "execution_count": 44,
     "metadata": {},
     "output_type": "execute_result"
    }
   ],
   "source": [
    "func"
   ]
  },
  {
   "cell_type": "code",
   "execution_count": 46,
   "metadata": {},
   "outputs": [
    {
     "data": {
      "text/plain": [
       "<function __main__.func(x, y)>"
      ]
     },
     "execution_count": 46,
     "metadata": {},
     "output_type": "execute_result"
    }
   ],
   "source": [
    "k"
   ]
  },
  {
   "cell_type": "code",
   "execution_count": 47,
   "metadata": {},
   "outputs": [],
   "source": [
    "def pot():\n",
    "     print('pot')"
   ]
  },
  {
   "cell_type": "code",
   "execution_count": 48,
   "metadata": {},
   "outputs": [],
   "source": [
    "def pqr(f):\n",
    "     f()"
   ]
  },
  {
   "cell_type": "code",
   "execution_count": 49,
   "metadata": {},
   "outputs": [
    {
     "name": "stdout",
     "output_type": "stream",
     "text": [
      "pot\n"
     ]
    }
   ],
   "source": [
    "pqr(pot)"
   ]
  },
  {
   "cell_type": "code",
   "execution_count": 50,
   "metadata": {},
   "outputs": [
    {
     "name": "stdout",
     "output_type": "stream",
     "text": [
      "nox\n"
     ]
    }
   ],
   "source": [
    "def basket():\n",
    "     def box():\n",
    "          print('nox')\n",
    "     box()\n",
    "basket()"
   ]
  },
  {
   "cell_type": "code",
   "execution_count": 51,
   "metadata": {},
   "outputs": [],
   "source": [
    "def awsome(f, m, n):\n",
    "     return f, m+n"
   ]
  },
  {
   "cell_type": "code",
   "execution_count": 54,
   "metadata": {},
   "outputs": [],
   "source": [
    "p, _ = awsome(pot, 3 , 4)"
   ]
  },
  {
   "cell_type": "code",
   "execution_count": 55,
   "metadata": {},
   "outputs": [
    {
     "name": "stdout",
     "output_type": "stream",
     "text": [
      "pot\n"
     ]
    }
   ],
   "source": [
    "p()"
   ]
  },
  {
   "cell_type": "code",
   "execution_count": 56,
   "metadata": {},
   "outputs": [
    {
     "data": {
      "text/plain": [
       "7"
      ]
     },
     "execution_count": 56,
     "metadata": {},
     "output_type": "execute_result"
    }
   ],
   "source": [
    "_"
   ]
  },
  {
   "cell_type": "code",
   "execution_count": 58,
   "metadata": {},
   "outputs": [],
   "source": [
    "# Decorator\n",
    "def decorate(f):\n",
    "     def special():\n",
    "          print('ye to special hai')\n",
    "          f()\n",
    "          print('Decorate ho gaya')\n",
    "     return special"
   ]
  },
  {
   "cell_type": "code",
   "execution_count": 59,
   "metadata": {},
   "outputs": [],
   "source": [
    "def simple():\n",
    "     print('Mai to bahat simple hoo')\n",
    "simple = decorate(simple)"
   ]
  },
  {
   "cell_type": "code",
   "execution_count": 60,
   "metadata": {},
   "outputs": [
    {
     "name": "stdout",
     "output_type": "stream",
     "text": [
      "ye to special hai\n",
      "Mai to bahat simple hoo\n",
      "Decorate ho gaya\n"
     ]
    }
   ],
   "source": [
    "simple()"
   ]
  },
  {
   "cell_type": "code",
   "execution_count": 61,
   "metadata": {},
   "outputs": [],
   "source": [
    "# Decorator\n",
    "def nayawala(f):\n",
    "     def special():\n",
    "          print('ye to special hai')\n",
    "          f()\n",
    "          print('Decorate ho gaya')\n",
    "     return special"
   ]
  },
  {
   "cell_type": "code",
   "execution_count": 62,
   "metadata": {},
   "outputs": [],
   "source": [
    "@nayawala\n",
    "@nayawala\n",
    "def simple():\n",
    "     print('Mai to bahat simple hoo')\n",
    "# simple = decorate(simple)"
   ]
  },
  {
   "cell_type": "code",
   "execution_count": 63,
   "metadata": {},
   "outputs": [
    {
     "name": "stdout",
     "output_type": "stream",
     "text": [
      "ye to special hai\n",
      "ye to special hai\n",
      "Mai to bahat simple hoo\n",
      "Decorate ho gaya\n",
      "Decorate ho gaya\n"
     ]
    }
   ],
   "source": [
    "simple()"
   ]
  },
  {
   "cell_type": "code",
   "execution_count": 65,
   "metadata": {},
   "outputs": [
    {
     "data": {
      "text/plain": [
       "<function __main__.<lambda>(x, y)>"
      ]
     },
     "execution_count": 65,
     "metadata": {},
     "output_type": "execute_result"
    }
   ],
   "source": [
    "# Annonymous Function\n",
    "######################\n",
    "lambda x, y : x*y"
   ]
  },
  {
   "cell_type": "code",
   "execution_count": 67,
   "metadata": {},
   "outputs": [
    {
     "name": "stdout",
     "output_type": "stream",
     "text": [
      "20\n"
     ]
    }
   ],
   "source": [
    "Multiply = lambda x, y : x*y\n",
    "print(Multiply(4,5))"
   ]
  },
  {
   "cell_type": "code",
   "execution_count": 72,
   "metadata": {},
   "outputs": [
    {
     "name": "stdout",
     "output_type": "stream",
     "text": [
      "[12, 14, 6, 12, 16, 4]\n",
      "[3.0, 14, 6, 3.0, 4.0, 1.0]\n",
      "['6', '7', '3', '6', '8', '2']\n"
     ]
    }
   ],
   "source": [
    "def my_mapper(func, values):\n",
    "     result = []\n",
    "     for value in values:\n",
    "          result += [func(value)]\n",
    "     return result\n",
    "data = [6,7,3,6,8,2]\n",
    "print(my_mapper(lambda x:x*2, data))\n",
    "print(my_mapper(lambda x:x*2 if x%2 else x/2, data))\n",
    "print(my_mapper(lambda x:str(x), data))\n",
    "# def first(v):\n",
    "#      return v*2\n",
    "# def second(v):\n",
    "#      return v*2 if v%2 else v/2\n",
    "# def third(v):\n",
    "#      return str(v)\n",
    "# print(my_mapper(first,data))\n",
    "# print(my_mapper(second, data))\n",
    "# print(my_mapper(third,data))"
   ]
  }
 ],
 "metadata": {
  "kernelspec": {
   "display_name": "Python 3",
   "language": "python",
   "name": "python3"
  },
  "language_info": {
   "codemirror_mode": {
    "name": "ipython",
    "version": 3
   },
   "file_extension": ".py",
   "mimetype": "text/x-python",
   "name": "python",
   "nbconvert_exporter": "python",
   "pygments_lexer": "ipython3",
   "version": "3.9.10"
  },
  "orig_nbformat": 4
 },
 "nbformat": 4,
 "nbformat_minor": 2
}
