{
 "cells": [
  {
   "cell_type": "code",
   "execution_count": 2,
   "metadata": {},
   "outputs": [],
   "source": [
    "# Image Aquire\n",
    "# Color Plane Extraction & Gray Conversion\n",
    "# Image Subtraction to fetch specific color\n",
    "# Thresholding to convert to BW - CRITICAL\n",
    "# Area/ Region of Interest (ROI) - CRITICAL\n",
    "       # Dilation/Erosion/Opening/Closing (combinations)\n",
    "       # Noise Removal/Holes Filling\n",
    "# Find the Reagion Properties\n",
    "          #Label the Image\n",
    "          # Regionprops (bounding Box) (y1, x1, y2, x2)\n",
    "# Draw the rectangle over Original Image based on bbox\n",
    "# ord function is use to find ascii value\n",
    "             "
   ]
  },
  {
   "cell_type": "code",
   "execution_count": 4,
   "metadata": {},
   "outputs": [
    {
     "ename": "TypeError",
     "evalue": "'numpy._DTypeMeta' object is not subscriptable",
     "output_type": "error",
     "traceback": [
      "\u001b[1;31m---------------------------------------------------------------------------\u001b[0m",
      "\u001b[1;31mTypeError\u001b[0m                                 Traceback (most recent call last)",
      "\u001b[1;32mc:\\Users\\mk744\\Downloads\\Internship basic python\\camera detection project.ipynb Cell 2\u001b[0m in \u001b[0;36m<cell line: 3>\u001b[1;34m()\u001b[0m\n\u001b[0;32m      <a href='vscode-notebook-cell:/c%3A/Users/mk744/Downloads/Internship%20basic%20python/camera%20detection%20project.ipynb#W1sZmlsZQ%3D%3D?line=0'>1</a>\u001b[0m \u001b[39m# Live Image Capturing\u001b[39;00m\n\u001b[0;32m      <a href='vscode-notebook-cell:/c%3A/Users/mk744/Downloads/Internship%20basic%20python/camera%20detection%20project.ipynb#W1sZmlsZQ%3D%3D?line=1'>2</a>\u001b[0m \u001b[39mimport\u001b[39;00m \u001b[39mnumpy\u001b[39;00m \u001b[39mas\u001b[39;00m \u001b[39mnp\u001b[39;00m\n\u001b[1;32m----> <a href='vscode-notebook-cell:/c%3A/Users/mk744/Downloads/Internship%20basic%20python/camera%20detection%20project.ipynb#W1sZmlsZQ%3D%3D?line=2'>3</a>\u001b[0m \u001b[39mimport\u001b[39;00m \u001b[39mcv2\u001b[39;00m\u001b[39m,\u001b[39m \u001b[39mskimage\u001b[39;00m \u001b[39mas\u001b[39;00m \u001b[39mski\u001b[39;00m\n\u001b[0;32m      <a href='vscode-notebook-cell:/c%3A/Users/mk744/Downloads/Internship%20basic%20python/camera%20detection%20project.ipynb#W1sZmlsZQ%3D%3D?line=3'>4</a>\u001b[0m vid \u001b[39m=\u001b[39m cv2\u001b[39m.\u001b[39mVideoCapture(\u001b[39m0\u001b[39m)\n\u001b[0;32m      <a href='vscode-notebook-cell:/c%3A/Users/mk744/Downloads/Internship%20basic%20python/camera%20detection%20project.ipynb#W1sZmlsZQ%3D%3D?line=4'>5</a>\u001b[0m \u001b[39mwhile\u001b[39;00m \u001b[39mTrue\u001b[39;00m:\n",
      "File \u001b[1;32m~\\AppData\\Roaming\\Python\\Python39\\site-packages\\cv2\\__init__.py:181\u001b[0m, in \u001b[0;36m<module>\u001b[1;34m\u001b[0m\n\u001b[0;32m    176\u001b[0m             \u001b[39mif\u001b[39;00m DEBUG: \u001b[39mprint\u001b[39m(\u001b[39m\"\u001b[39m\u001b[39mExtra Python code for\u001b[39m\u001b[39m\"\u001b[39m, submodule, \u001b[39m\"\u001b[39m\u001b[39mis loaded\u001b[39m\u001b[39m\"\u001b[39m)\n\u001b[0;32m    178\u001b[0m     \u001b[39mif\u001b[39;00m DEBUG: \u001b[39mprint\u001b[39m(\u001b[39m'\u001b[39m\u001b[39mOpenCV loader: DONE\u001b[39m\u001b[39m'\u001b[39m)\n\u001b[1;32m--> 181\u001b[0m bootstrap()\n",
      "File \u001b[1;32m~\\AppData\\Roaming\\Python\\Python39\\site-packages\\cv2\\__init__.py:175\u001b[0m, in \u001b[0;36mbootstrap\u001b[1;34m()\u001b[0m\n\u001b[0;32m    172\u001b[0m \u001b[39mif\u001b[39;00m DEBUG: \u001b[39mprint\u001b[39m(\u001b[39m'\u001b[39m\u001b[39mOpenCV loader: binary extension... OK\u001b[39m\u001b[39m'\u001b[39m)\n\u001b[0;32m    174\u001b[0m \u001b[39mfor\u001b[39;00m submodule \u001b[39min\u001b[39;00m __collect_extra_submodules(DEBUG):\n\u001b[1;32m--> 175\u001b[0m     \u001b[39mif\u001b[39;00m __load_extra_py_code_for_module(\u001b[39m\"\u001b[39;49m\u001b[39mcv2\u001b[39;49m\u001b[39m\"\u001b[39;49m, submodule, DEBUG):\n\u001b[0;32m    176\u001b[0m         \u001b[39mif\u001b[39;00m DEBUG: \u001b[39mprint\u001b[39m(\u001b[39m\"\u001b[39m\u001b[39mExtra Python code for\u001b[39m\u001b[39m\"\u001b[39m, submodule, \u001b[39m\"\u001b[39m\u001b[39mis loaded\u001b[39m\u001b[39m\"\u001b[39m)\n\u001b[0;32m    178\u001b[0m \u001b[39mif\u001b[39;00m DEBUG: \u001b[39mprint\u001b[39m(\u001b[39m'\u001b[39m\u001b[39mOpenCV loader: DONE\u001b[39m\u001b[39m'\u001b[39m)\n",
      "File \u001b[1;32m~\\AppData\\Roaming\\Python\\Python39\\site-packages\\cv2\\__init__.py:28\u001b[0m, in \u001b[0;36m__load_extra_py_code_for_module\u001b[1;34m(base, name, enable_debug_print)\u001b[0m\n\u001b[0;32m     26\u001b[0m native_module \u001b[39m=\u001b[39m sys\u001b[39m.\u001b[39mmodules\u001b[39m.\u001b[39mpop(module_name, \u001b[39mNone\u001b[39;00m)\n\u001b[0;32m     27\u001b[0m \u001b[39mtry\u001b[39;00m:\n\u001b[1;32m---> 28\u001b[0m     py_module \u001b[39m=\u001b[39m importlib\u001b[39m.\u001b[39;49mimport_module(module_name)\n\u001b[0;32m     29\u001b[0m \u001b[39mexcept\u001b[39;00m \u001b[39mImportError\u001b[39;00m \u001b[39mas\u001b[39;00m err:\n\u001b[0;32m     30\u001b[0m     \u001b[39mif\u001b[39;00m enable_debug_print:\n",
      "File \u001b[1;32mc:\\Users\\mk744\\anaconda3\\lib\\importlib\\__init__.py:127\u001b[0m, in \u001b[0;36mimport_module\u001b[1;34m(name, package)\u001b[0m\n\u001b[0;32m    125\u001b[0m             \u001b[39mbreak\u001b[39;00m\n\u001b[0;32m    126\u001b[0m         level \u001b[39m+\u001b[39m\u001b[39m=\u001b[39m \u001b[39m1\u001b[39m\n\u001b[1;32m--> 127\u001b[0m \u001b[39mreturn\u001b[39;00m _bootstrap\u001b[39m.\u001b[39;49m_gcd_import(name[level:], package, level)\n",
      "File \u001b[1;32m~\\AppData\\Roaming\\Python\\Python39\\site-packages\\cv2\\typing\\__init__.py:69\u001b[0m, in \u001b[0;36m<module>\u001b[1;34m\u001b[0m\n\u001b[0;32m     65\u001b[0m \u001b[39mimport\u001b[39;00m \u001b[39mtyping\u001b[39;00m\n\u001b[0;32m     68\u001b[0m \u001b[39mif\u001b[39;00m numpy\u001b[39m.\u001b[39mlib\u001b[39m.\u001b[39mNumpyVersion(numpy\u001b[39m.\u001b[39m__version__) \u001b[39m>\u001b[39m \u001b[39m\"\u001b[39m\u001b[39m1.20.0\u001b[39m\u001b[39m\"\u001b[39m \u001b[39mand\u001b[39;00m sys\u001b[39m.\u001b[39mversion_info \u001b[39m>\u001b[39m\u001b[39m=\u001b[39m (\u001b[39m3\u001b[39m, \u001b[39m9\u001b[39m):\n\u001b[1;32m---> 69\u001b[0m     NumPyArrayGeneric \u001b[39m=\u001b[39m numpy\u001b[39m.\u001b[39mndarray[typing\u001b[39m.\u001b[39mAny, numpy\u001b[39m.\u001b[39;49mdtype[numpy\u001b[39m.\u001b[39;49mgeneric]]\n\u001b[0;32m     70\u001b[0m \u001b[39melse\u001b[39;00m:\n\u001b[0;32m     71\u001b[0m     NumPyArrayGeneric \u001b[39m=\u001b[39m numpy\u001b[39m.\u001b[39mndarray\n",
      "\u001b[1;31mTypeError\u001b[0m: 'numpy._DTypeMeta' object is not subscriptable"
     ]
    }
   ],
   "source": [
    "# Live Image Capturing\n",
    "import numpy as np\n",
    "import cv2, skimage as ski\n",
    "vid = cv2.VideoCapture(0)\n",
    "while True:\n",
    "     ack , img = vid.read()\n",
    "     if ack:\n",
    "          th,  red_bw = cv2.threshold(\n",
    "               cv2.subtract(\n",
    "                    img[:,:,-3], cv2.cvtColor(img, cv2.COLOR_BGR2GRAY)\n",
    "               ), 60, 255, cv2.THRESH_BINARY \n",
    "          )\n",
    "          strel = cv2.getStructuringElement(cv2.MORPH_RECT, (20,20))\n",
    "          red_bw = cv2.morphologyEx(\n",
    "                 red_bw, cv2.MORPH_CLOSE, strel, iterations= 1\n",
    "           )\n",
    "          red_bw = ski.morphology.remove_small_objects( \n",
    "                                                       # To fill the holes then \n",
    "                                                       # use holes on the place of objects\n",
    "               red_bw.astype(bool), 300\n",
    "          ).astype('uint8') * 255\n",
    "          \n",
    "          rps = ski.measure.regionprops(\n",
    "               ski.measure.label(red_bw.astype(bool))\n",
    "          )\n",
    "          \n",
    "          count = len(rps)\n",
    "          img_copy = img.copy()\n",
    "          cv2.putText(img_copy, str(count),\n",
    "                      (150,150),\n",
    "                      cv2.FONT_HERSHEY_PLAIN,\n",
    "                      10,(0,0,255),10)\n",
    "          for rp in rps:\n",
    "               y1, x1, y2, x2 = rp.bbox\n",
    "               cv2.rectangle(img_copy, \n",
    "                             (x1, y1)\n",
    "                             ,(x2, y2),\n",
    "                             (255,0,0),\n",
    "                             thickness= 5)\n",
    "          cv2.imshow('Preview', img_copy)\n",
    "          key = cv2.waitKey(1)\n",
    "          if key == ord('x'):\n",
    "               break\n",
    "cv2.destroyAllWindows(); cv2.waitKey(1)\n",
    "vid.release()\n",
    "          "
   ]
  },
  {
   "cell_type": "code",
   "execution_count": 5,
   "metadata": {},
   "outputs": [
    {
     "ename": "TypeError",
     "evalue": "'numpy._DTypeMeta' object is not subscriptable",
     "output_type": "error",
     "traceback": [
      "\u001b[1;31m---------------------------------------------------------------------------\u001b[0m",
      "\u001b[1;31mTypeError\u001b[0m                                 Traceback (most recent call last)",
      "\u001b[1;32mc:\\Users\\mk744\\Downloads\\Internship basic python\\camera detection project.ipynb Cell 3\u001b[0m in \u001b[0;36m<cell line: 2>\u001b[1;34m()\u001b[0m\n\u001b[0;32m      <a href='vscode-notebook-cell:/c%3A/Users/mk744/Downloads/Internship%20basic%20python/camera%20detection%20project.ipynb#W2sZmlsZQ%3D%3D?line=0'>1</a>\u001b[0m \u001b[39m# Face Detection -- Viola Jones algo (Haarcascade features)\u001b[39;00m\n\u001b[1;32m----> <a href='vscode-notebook-cell:/c%3A/Users/mk744/Downloads/Internship%20basic%20python/camera%20detection%20project.ipynb#W2sZmlsZQ%3D%3D?line=1'>2</a>\u001b[0m \u001b[39mimport\u001b[39;00m \u001b[39mcv2\u001b[39;00m\n\u001b[0;32m      <a href='vscode-notebook-cell:/c%3A/Users/mk744/Downloads/Internship%20basic%20python/camera%20detection%20project.ipynb#W2sZmlsZQ%3D%3D?line=2'>3</a>\u001b[0m fd \u001b[39m=\u001b[39m cv2\u001b[39m.\u001b[39mCascadeClassifier(\n\u001b[0;32m      <a href='vscode-notebook-cell:/c%3A/Users/mk744/Downloads/Internship%20basic%20python/camera%20detection%20project.ipynb#W2sZmlsZQ%3D%3D?line=3'>4</a>\u001b[0m      \u001b[39m# It will tell the path\u001b[39;00m\n\u001b[0;32m      <a href='vscode-notebook-cell:/c%3A/Users/mk744/Downloads/Internship%20basic%20python/camera%20detection%20project.ipynb#W2sZmlsZQ%3D%3D?line=4'>5</a>\u001b[0m      cv2\u001b[39m.\u001b[39mdata\u001b[39m.\u001b[39mhaarcascades \u001b[39m+\u001b[39m \u001b[39m'\u001b[39m\u001b[39mhaarcascade_frontalface_default.xml\u001b[39m\u001b[39m'\u001b[39m)\n\u001b[0;32m      <a href='vscode-notebook-cell:/c%3A/Users/mk744/Downloads/Internship%20basic%20python/camera%20detection%20project.ipynb#W2sZmlsZQ%3D%3D?line=5'>6</a>\u001b[0m vid \u001b[39m=\u001b[39m cv2\u001b[39m.\u001b[39mVideoCapture(\u001b[39m0\u001b[39m)\n",
      "File \u001b[1;32m~\\AppData\\Roaming\\Python\\Python39\\site-packages\\cv2\\__init__.py:181\u001b[0m, in \u001b[0;36m<module>\u001b[1;34m\u001b[0m\n\u001b[0;32m    176\u001b[0m             \u001b[39mif\u001b[39;00m DEBUG: \u001b[39mprint\u001b[39m(\u001b[39m\"\u001b[39m\u001b[39mExtra Python code for\u001b[39m\u001b[39m\"\u001b[39m, submodule, \u001b[39m\"\u001b[39m\u001b[39mis loaded\u001b[39m\u001b[39m\"\u001b[39m)\n\u001b[0;32m    178\u001b[0m     \u001b[39mif\u001b[39;00m DEBUG: \u001b[39mprint\u001b[39m(\u001b[39m'\u001b[39m\u001b[39mOpenCV loader: DONE\u001b[39m\u001b[39m'\u001b[39m)\n\u001b[1;32m--> 181\u001b[0m bootstrap()\n",
      "File \u001b[1;32m~\\AppData\\Roaming\\Python\\Python39\\site-packages\\cv2\\__init__.py:175\u001b[0m, in \u001b[0;36mbootstrap\u001b[1;34m()\u001b[0m\n\u001b[0;32m    172\u001b[0m \u001b[39mif\u001b[39;00m DEBUG: \u001b[39mprint\u001b[39m(\u001b[39m'\u001b[39m\u001b[39mOpenCV loader: binary extension... OK\u001b[39m\u001b[39m'\u001b[39m)\n\u001b[0;32m    174\u001b[0m \u001b[39mfor\u001b[39;00m submodule \u001b[39min\u001b[39;00m __collect_extra_submodules(DEBUG):\n\u001b[1;32m--> 175\u001b[0m     \u001b[39mif\u001b[39;00m __load_extra_py_code_for_module(\u001b[39m\"\u001b[39;49m\u001b[39mcv2\u001b[39;49m\u001b[39m\"\u001b[39;49m, submodule, DEBUG):\n\u001b[0;32m    176\u001b[0m         \u001b[39mif\u001b[39;00m DEBUG: \u001b[39mprint\u001b[39m(\u001b[39m\"\u001b[39m\u001b[39mExtra Python code for\u001b[39m\u001b[39m\"\u001b[39m, submodule, \u001b[39m\"\u001b[39m\u001b[39mis loaded\u001b[39m\u001b[39m\"\u001b[39m)\n\u001b[0;32m    178\u001b[0m \u001b[39mif\u001b[39;00m DEBUG: \u001b[39mprint\u001b[39m(\u001b[39m'\u001b[39m\u001b[39mOpenCV loader: DONE\u001b[39m\u001b[39m'\u001b[39m)\n",
      "File \u001b[1;32m~\\AppData\\Roaming\\Python\\Python39\\site-packages\\cv2\\__init__.py:28\u001b[0m, in \u001b[0;36m__load_extra_py_code_for_module\u001b[1;34m(base, name, enable_debug_print)\u001b[0m\n\u001b[0;32m     26\u001b[0m native_module \u001b[39m=\u001b[39m sys\u001b[39m.\u001b[39mmodules\u001b[39m.\u001b[39mpop(module_name, \u001b[39mNone\u001b[39;00m)\n\u001b[0;32m     27\u001b[0m \u001b[39mtry\u001b[39;00m:\n\u001b[1;32m---> 28\u001b[0m     py_module \u001b[39m=\u001b[39m importlib\u001b[39m.\u001b[39;49mimport_module(module_name)\n\u001b[0;32m     29\u001b[0m \u001b[39mexcept\u001b[39;00m \u001b[39mImportError\u001b[39;00m \u001b[39mas\u001b[39;00m err:\n\u001b[0;32m     30\u001b[0m     \u001b[39mif\u001b[39;00m enable_debug_print:\n",
      "File \u001b[1;32mc:\\Users\\mk744\\anaconda3\\lib\\importlib\\__init__.py:127\u001b[0m, in \u001b[0;36mimport_module\u001b[1;34m(name, package)\u001b[0m\n\u001b[0;32m    125\u001b[0m             \u001b[39mbreak\u001b[39;00m\n\u001b[0;32m    126\u001b[0m         level \u001b[39m+\u001b[39m\u001b[39m=\u001b[39m \u001b[39m1\u001b[39m\n\u001b[1;32m--> 127\u001b[0m \u001b[39mreturn\u001b[39;00m _bootstrap\u001b[39m.\u001b[39;49m_gcd_import(name[level:], package, level)\n",
      "File \u001b[1;32m~\\AppData\\Roaming\\Python\\Python39\\site-packages\\cv2\\typing\\__init__.py:69\u001b[0m, in \u001b[0;36m<module>\u001b[1;34m\u001b[0m\n\u001b[0;32m     65\u001b[0m \u001b[39mimport\u001b[39;00m \u001b[39mtyping\u001b[39;00m\n\u001b[0;32m     68\u001b[0m \u001b[39mif\u001b[39;00m numpy\u001b[39m.\u001b[39mlib\u001b[39m.\u001b[39mNumpyVersion(numpy\u001b[39m.\u001b[39m__version__) \u001b[39m>\u001b[39m \u001b[39m\"\u001b[39m\u001b[39m1.20.0\u001b[39m\u001b[39m\"\u001b[39m \u001b[39mand\u001b[39;00m sys\u001b[39m.\u001b[39mversion_info \u001b[39m>\u001b[39m\u001b[39m=\u001b[39m (\u001b[39m3\u001b[39m, \u001b[39m9\u001b[39m):\n\u001b[1;32m---> 69\u001b[0m     NumPyArrayGeneric \u001b[39m=\u001b[39m numpy\u001b[39m.\u001b[39mndarray[typing\u001b[39m.\u001b[39mAny, numpy\u001b[39m.\u001b[39;49mdtype[numpy\u001b[39m.\u001b[39;49mgeneric]]\n\u001b[0;32m     70\u001b[0m \u001b[39melse\u001b[39;00m:\n\u001b[0;32m     71\u001b[0m     NumPyArrayGeneric \u001b[39m=\u001b[39m numpy\u001b[39m.\u001b[39mndarray\n",
      "\u001b[1;31mTypeError\u001b[0m: 'numpy._DTypeMeta' object is not subscriptable"
     ]
    }
   ],
   "source": [
    "# Face Detection -- Viola Jones algo (Haarcascade features)\n",
    "import cv2\n",
    "fd = cv2.CascadeClassifier(\n",
    "     # It will tell the path\n",
    "     cv2.data.haarcascades + 'haarcascade_frontalface_default.xml')\n",
    "vid = cv2.VideoCapture(0)\n",
    "while True:\n",
    "     ack , img = vid.read()\n",
    "     if ack:\n",
    "          faces = fd.detectMultiScale(img,1.2,10)\n",
    "          for x, y,w, h in faces:\n",
    "               cv2.rectangle(img,(x,y),\n",
    "                             (x+w, y+h),\n",
    "                             (255,255,255)\n",
    "                             , 10)\n",
    "          \n",
    "          \n",
    "          cv2.imshow('Preview', img)\n",
    "          key = cv2.waitKey(1)\n",
    "          if key == ord('x'):\n",
    "               break\n",
    "cv2.destroyAllWindows(); cv2.waitKey(1)\n",
    "vid.release()"
   ]
  },
  {
   "cell_type": "code",
   "execution_count": 4,
   "metadata": {},
   "outputs": [],
   "source": [
    "# Face Detection and Face Images to save -- Viola Jones algo (Haarcascade features)\n",
    "import cv2\n",
    "fd = cv2.CascadeClassifier(\n",
    "     # It will tell the path\n",
    "     cv2.data.haarcascades + 'haarcascade_frontalface_default.xml')\n",
    "vid = cv2.VideoCapture(0)\n",
    "counter = 0\n",
    "while True:\n",
    "     ack , img = vid.read()\n",
    "     if ack:\n",
    "          faces = fd.detectMultiScale(img,1.2,10)\n",
    "          if len(faces) == 1:\n",
    "               counter +=1\n",
    "               for x, y,w, h in faces:\n",
    "                    cv2.rectangle(img,(x,y),\n",
    "                                  (x+w, y+h),\n",
    "                            (255,255,255), 10)\n",
    "                    face_img = img[y:y+h, x:x+w, :].copy()\n",
    "                    cv2.imwrite(r'C:\\Users\\mk744\\Downloads\\Internship basic python\\Faces\\Maruf\\Face_{0}.png'.format(counter), \n",
    "                                face_img)\n",
    "          \n",
    "          \n",
    "          cv2.imshow('Preview', img)\n",
    "          key = cv2.waitKey(1)\n",
    "          if key == ord('x'):\n",
    "               break\n",
    "cv2.destroyAllWindows(); cv2.waitKey(1)\n",
    "vid.release()"
   ]
  },
  {
   "cell_type": "code",
   "execution_count": 9,
   "metadata": {},
   "outputs": [
    {
     "ename": "ModuleNotFoundError",
     "evalue": "No module named 'face_recognition'",
     "output_type": "error",
     "traceback": [
      "\u001b[1;31m---------------------------------------------------------------------------\u001b[0m",
      "\u001b[1;31mModuleNotFoundError\u001b[0m                       Traceback (most recent call last)",
      "\u001b[1;32mc:\\Users\\mk744\\Downloads\\Internship basic python\\camera detection project.ipynb Cell 5\u001b[0m in \u001b[0;36m<cell line: 3>\u001b[1;34m()\u001b[0m\n\u001b[0;32m      <a href='vscode-notebook-cell:/c%3A/Users/mk744/Downloads/Internship%20basic%20python/camera%20detection%20project.ipynb#W5sZmlsZQ%3D%3D?line=0'>1</a>\u001b[0m \u001b[39m#Face underscore recognition\u001b[39;00m\n\u001b[0;32m      <a href='vscode-notebook-cell:/c%3A/Users/mk744/Downloads/Internship%20basic%20python/camera%20detection%20project.ipynb#W5sZmlsZQ%3D%3D?line=1'>2</a>\u001b[0m \u001b[39mimport\u001b[39;00m \u001b[39mcv2\u001b[39;00m\n\u001b[1;32m----> <a href='vscode-notebook-cell:/c%3A/Users/mk744/Downloads/Internship%20basic%20python/camera%20detection%20project.ipynb#W5sZmlsZQ%3D%3D?line=2'>3</a>\u001b[0m \u001b[39mimport\u001b[39;00m \u001b[39mface_recognition\u001b[39;00m \u001b[39mas\u001b[39;00m \u001b[39mfr\u001b[39;00m\n\u001b[0;32m      <a href='vscode-notebook-cell:/c%3A/Users/mk744/Downloads/Internship%20basic%20python/camera%20detection%20project.ipynb#W5sZmlsZQ%3D%3D?line=3'>4</a>\u001b[0m \u001b[39mimport\u001b[39;00m \u001b[39mpandas\u001b[39;00m \u001b[39mas\u001b[39;00m \u001b[39mpd\u001b[39;00m\n\u001b[0;32m      <a href='vscode-notebook-cell:/c%3A/Users/mk744/Downloads/Internship%20basic%20python/camera%20detection%20project.ipynb#W5sZmlsZQ%3D%3D?line=4'>5</a>\u001b[0m \u001b[39mimport\u001b[39;00m \u001b[39mnumpy\u001b[39;00m \u001b[39mas\u001b[39;00m \u001b[39mnp\u001b[39;00m\n",
      "\u001b[1;31mModuleNotFoundError\u001b[0m: No module named 'face_recognition'"
     ]
    }
   ],
   "source": [
    "#Face underscore recognition\n",
    "import cv2\n",
    "import face_recognition as fr\n",
    "import pandas as pd\n",
    "import numpy as np\n",
    "fname='features.csv'\n",
    "try:\n",
    "    df=pd.read_csv(fname)\n",
    "except:\n",
    "     print('Face Database not found. Halt')\n",
    "    # err=True\n",
    "else:\n",
    "    fd= cv2.CascadeClassifier(cv2.data.haarcascades +'haarcascade_frontalface_default.xml')\n",
    "    vid = cv2.VideoCapture(0)\n",
    "    \n",
    "    while True:\n",
    "        ack,img=vid.read()\n",
    "        if ack:\n",
    "            faces=fd.detectMultiScale(img,1.2,10,minSize=(150,150))\n",
    "            if len(faces) == 1:\n",
    "                x,y,w,h = faces[0]\n",
    "                face_img = img[y:y+h, x:x+w , :].copy()\n",
    "                face_enc = fr.face_encodings(face_img)\n",
    "                if len(face_enc) == 1:\n",
    "                    # for idx,val in enumerate(df['enc'].apply(lambda x:eval(x))):\n",
    "                    feats_data=df['enc'].apply(lambda x:eval(x)).values.tolist()\n",
    "                    matches = fr.compare_faces(face_enc, np.array(feats_data))\n",
    "                    if True in matches:\n",
    "                        match_ind = matches.index(True)\n",
    "                        name=df['name'][match_ind]\n",
    "                    else:\n",
    "                        name='Unknown'\n",
    "                    cv2.putText(img,name,(150,150),\n",
    "                        cv2.FONT_HERSHEY_PLAIN,10,(0,0,255),10)                \n",
    "            cv2.imshow('Preview',img)\n",
    "            key=cv2.waitKey(1)\n",
    "            if key==ord('x'):\n",
    "                break\n",
    "    cv2.destroyAllWindows(); cv2.waitKey(1)\n",
    "vid.release()"
   ]
  },
  {
   "cell_type": "code",
   "execution_count": null,
   "metadata": {},
   "outputs": [],
   "source": []
  }
 ],
 "metadata": {
  "kernelspec": {
   "display_name": "base",
   "language": "python",
   "name": "python3"
  },
  "language_info": {
   "codemirror_mode": {
    "name": "ipython",
    "version": 3
   },
   "file_extension": ".py",
   "mimetype": "text/x-python",
   "name": "python",
   "nbconvert_exporter": "python",
   "pygments_lexer": "ipython3",
   "version": "3.9.12"
  },
  "orig_nbformat": 4
 },
 "nbformat": 4,
 "nbformat_minor": 2
}
