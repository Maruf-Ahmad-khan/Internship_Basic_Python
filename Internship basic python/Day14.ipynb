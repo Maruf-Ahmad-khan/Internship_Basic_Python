{
 "cells": [
  {
   "cell_type": "code",
   "execution_count": 1,
   "metadata": {},
   "outputs": [],
   "source": [
    "# Face Registration\n",
    "################################\n",
    "import cv2\n",
    "import pandas as pd\n",
    "import face_recognition as fr\n",
    "import numpy as np\n",
    "fname = 'features.csv'\n",
    "try:\n",
    "    df = pd.read_csv(fname)\n",
    "except:\n",
    "    df = pd.DataFrame({'name':[], 'enc':[]})\n",
    "\n",
    "fd = cv2.CascadeClassifier(\n",
    "    cv2.data.haarcascades + 'haarcascade_frontalface_default.xml'\n",
    ")\n",
    "vid = cv2.VideoCapture(0)\n",
    "counter = 0\n",
    "names = []\n",
    "feats = []\n",
    "name = input('Enter your name:')\n",
    "while True:\n",
    "    ack, img = vid.read()\n",
    "    if ack:\n",
    "        faces = fd.detectMultiScale(img, 1.2,10,minSize=(150,150))\n",
    "        if len(faces) == 1:\n",
    "            x,y,w,h = faces[0]\n",
    "            face_img = img[y:y+h,x:x+w,:].copy()\n",
    "            face_enc = fr.face_encodings(face_img)\n",
    "            if len(face_enc) == 1:\n",
    "                counter += 1\n",
    "                names += [name]\n",
    "                feats += [face_enc[0].tolist()]                \n",
    "            if counter == 20:\n",
    "                f = pd.DataFrame({'name':names, 'enc':feats})\n",
    "                df = pd.concat([df,f], axis = 0, ignore_index=True)\n",
    "                df.to_csv(fname)\n",
    "                break\n",
    "\n",
    "        cv2.imshow('Preview', img)  # depends on requirement\n",
    "        key = cv2.waitKey(1)\n",
    "        if key == ord('x'):\n",
    "            break\n",
    "cv2.destroyAllWindows(); cv2.waitKey(1)\n",
    "vid.release()"
   ]
  },
  {
   "cell_type": "code",
   "execution_count": 3,
   "metadata": {},
   "outputs": [],
   "source": [
    "# Face Recognition\n",
    "################################\n",
    "import cv2\n",
    "import pandas as pd\n",
    "import face_recognition as fr\n",
    "fname = 'features.csv'\n",
    "\n",
    "try:\n",
    "    df = pd.read_csv(fname)\n",
    "except:\n",
    "    print('Face Database not found. Halt')\n",
    "else:\n",
    "    fd = cv2.CascadeClassifier(\n",
    "        cv2.data.haarcascades + 'haarcascade_frontalface_default.xml'\n",
    "    )\n",
    "    vid = cv2.VideoCapture(0)\n",
    "    while True:\n",
    "        ack, img = vid.read()\n",
    "        if ack:\n",
    "            faces = fd.detectMultiScale(img, 1.2,10,minSize=(150,150))\n",
    "            if len(faces) == 1:\n",
    "                x,y,w,h = faces[0]\n",
    "                face_img = img[y:y+h,x:x+w,:].copy()\n",
    "                face_enc = fr.face_encodings(face_img)\n",
    "                if len(face_enc) == 1:\n",
    "                    feats_data = df['enc'].apply(lambda x:eval(x)).values.tolist()\n",
    "                    matches = fr.compare_faces(face_enc, np.array(feats_data))\n",
    "                    if True in matches:\n",
    "                        match_ind = matches.index(True)\n",
    "                        name = df['name'][match_ind]\n",
    "                    else:\n",
    "                           name = 'Unknown'\n",
    "                    cv2.putText(img, name,(150,150),\n",
    "                        cv2.FONT_HERSHEY_PLAIN, 5, (0,0,255),15\n",
    "                    )                    \n",
    "\n",
    "            cv2.imshow('Preview', img)  # depends on requirement\n",
    "            key = cv2.waitKey(1)\n",
    "            if key == ord('x'):\n",
    "                break\n",
    "    cv2.destroyAllWindows(); cv2.waitKey(1)\n",
    "    vid.release()"
   ]
  },
  {
   "cell_type": "code",
   "execution_count": 2,
   "metadata": {},
   "outputs": [
    {
     "name": "stdout",
     "output_type": "stream",
     "text": [
      "Unknown\n"
     ]
    },
    {
     "data": {
      "text/plain": [
       "0       [4.0, 0.5, 6.0, -7.0]\n",
       "1      [42.0, 0.5, 3.0, -7.0]\n",
       "2    [14.0, 20.5, -6.0, -7.0]\n",
       "Name: enc, dtype: object"
      ]
     },
     "execution_count": 2,
     "metadata": {},
     "output_type": "execute_result"
    }
   ],
   "source": [
    "import face_recognition as fr\n",
    "import pandas as pd\n",
    "df = pd.DataFrame({'name':['ajay','vinay'], 'enc':[[4,8,9,3],[4,3,5,7]]})\n",
    "df\n",
    "df1 = pd.DataFrame({'name':['kashish','raman'], 'enc':[[14,1,9,1],[3,9,5,7]]})\n",
    "df1\n",
    "pd.concat([df,df1], axis=0, ignore_index=True)\n",
    "a = [False,False,False,False,False]\n",
    "# if True in a:\n",
    "if sum(a)>0:\n",
    "    a.index(True)\n",
    "else:\n",
    "    print('Unknown')\n",
    "import numpy as np\n",
    "df = pd.DataFrame({'name':['abc','pqr','xyz'],\n",
    "                   'enc':[\n",
    "                       np.array([4,0.5,6,-7]).tolist(),\n",
    "                       np.array([42,0.5,3,-7]).tolist(),\n",
    "                       np.array([14,20.5,-6,-7]).tolist(),\n",
    "                   ]})\n",
    "df.to_csv('sample.csv')\n",
    "df = pd.read_csv('sample.csv')\n",
    "df\n",
    "eval(df['enc'][0])\n",
    "df['enc'].apply(lambda x:eval(x))"
   ]
  },
  {
   "cell_type": "code",
   "execution_count": 4,
   "metadata": {},
   "outputs": [
    {
     "data": {
      "text/plain": [
       "[True,\n",
       " True,\n",
       " True,\n",
       " True,\n",
       " True,\n",
       " True,\n",
       " True,\n",
       " True,\n",
       " True,\n",
       " True,\n",
       " True,\n",
       " True,\n",
       " True,\n",
       " False,\n",
       " True,\n",
       " True,\n",
       " True,\n",
       " True,\n",
       " True,\n",
       " True,\n",
       " False,\n",
       " True,\n",
       " True,\n",
       " True,\n",
       " True,\n",
       " True,\n",
       " True,\n",
       " True,\n",
       " True,\n",
       " True,\n",
       " True,\n",
       " True,\n",
       " True,\n",
       " True,\n",
       " True,\n",
       " True,\n",
       " True,\n",
       " True,\n",
       " True,\n",
       " True]"
      ]
     },
     "execution_count": 4,
     "metadata": {},
     "output_type": "execute_result"
    }
   ],
   "source": [
    "import numpy as np\n",
    "k = df['enc'].apply(lambda x:eval(x)).values.tolist()\n",
    "matches = fr.compare_faces(face_enc, np.array(k))\n",
    "matches"
   ]
  },
  {
   "cell_type": "code",
   "execution_count": 5,
   "metadata": {},
   "outputs": [
    {
     "data": {
      "text/plain": [
       "(40,)"
      ]
     },
     "execution_count": 5,
     "metadata": {},
     "output_type": "execute_result"
    }
   ],
   "source": [
    "\n",
    "df['enc'].apply(lambda x:eval(x)).values.shape"
   ]
  },
  {
   "cell_type": "code",
   "execution_count": null,
   "metadata": {},
   "outputs": [],
   "source": []
  }
 ],
 "metadata": {
  "kernelspec": {
   "display_name": "Python 3",
   "language": "python",
   "name": "python3"
  },
  "language_info": {
   "codemirror_mode": {
    "name": "ipython",
    "version": 3
   },
   "file_extension": ".py",
   "mimetype": "text/x-python",
   "name": "python",
   "nbconvert_exporter": "python",
   "pygments_lexer": "ipython3",
   "version": "3.9.10"
  },
  "orig_nbformat": 4
 },
 "nbformat": 4,
 "nbformat_minor": 2
}
