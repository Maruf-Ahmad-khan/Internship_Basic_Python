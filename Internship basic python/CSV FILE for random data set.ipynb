{
 "cells": [
  {
   "cell_type": "code",
   "execution_count": 1,
   "metadata": {},
   "outputs": [],
   "source": [
    "import numpy as np\n",
    "# Random Generators \n",
    "from numpy.random import Generator as gen\n",
    "from numpy.random import PCG64 as pcg\n",
    "# Application of Random Generators\n",
    "# Generate 5 different arrays\n",
    "array_RG = gen(pcg(seed = 365))\n",
    "array_column_1 = array_RG.normal(loc = 2, scale = 3, size = (1000))\n",
    "array_column_2 = array_RG.normal(loc = 7, scale = 2, size = (1000))\n",
    "array_column_3 = array_RG.logistic(loc = 11, scale = 3, size = (1000))\n",
    "array_column_4 = array_RG.exponential(scale = 4, size = (1000))\n",
    "array_column_5 = array_RG.geometric(p = 0.7, size = (1000))"
   ]
  },
  {
   "cell_type": "code",
   "execution_count": 2,
   "metadata": {},
   "outputs": [
    {
     "name": "stdout",
     "output_type": "stream",
     "text": [
      "[[ 1.59077303  2.28243293  1.81098674 ...  0.1973629  -2.21015722\n",
      "   2.91161235]\n",
      " [ 6.42174295  8.57902322  5.17270135 ...  4.3465854   8.2176402\n",
      "   7.90337695]\n",
      " [10.14698427 15.93309953 -0.46878789 ...  2.66485989 12.69328115\n",
      "  11.79840961]\n",
      " [ 6.91500737  6.243605    2.44997251 ...  0.80935387  0.50644607\n",
      "   4.86816939]\n",
      " [ 1.          1.          1.         ...  1.          2.\n",
      "   1.        ]]\n"
     ]
    }
   ],
   "source": [
    "# Generate 5 different arrays\n",
    "random_test_data = np.array([array_column_1,\n",
    "                             array_column_2,\n",
    "                             array_column_3, \n",
    "                             array_column_4,\n",
    "                             array_column_5])\n",
    "print(random_test_data)"
   ]
  },
  {
   "cell_type": "code",
   "execution_count": 3,
   "metadata": {},
   "outputs": [
    {
     "name": "stdout",
     "output_type": "stream",
     "text": [
      "(5, 1000)\n"
     ]
    }
   ],
   "source": [
    "print(random_test_data.shape)"
   ]
  },
  {
   "cell_type": "code",
   "execution_count": 4,
   "metadata": {},
   "outputs": [
    {
     "name": "stdout",
     "output_type": "stream",
     "text": [
      "[[ 1.59077303  6.42174295 10.14698427  6.91500737  1.        ]\n",
      " [ 2.28243293  8.57902322 15.93309953  6.243605    1.        ]\n",
      " [ 1.81098674  5.17270135 -0.46878789  2.44997251  1.        ]\n",
      " ...\n",
      " [ 0.1973629   4.3465854   2.66485989  0.80935387  1.        ]\n",
      " [-2.21015722  8.2176402  12.69328115  0.50644607  2.        ]\n",
      " [ 2.91161235  7.90337695 11.79840961  4.86816939  1.        ]]\n"
     ]
    }
   ],
   "source": [
    "# Transpose\n",
    "# Generate 5 different arrays\n",
    "random_test_data = np.array([array_column_1,\n",
    "                             array_column_2,\n",
    "                             array_column_3, \n",
    "                             array_column_4,\n",
    "                             array_column_5]).transpose()\n",
    "print(random_test_data)"
   ]
  },
  {
   "cell_type": "code",
   "execution_count": 5,
   "metadata": {},
   "outputs": [
    {
     "name": "stdout",
     "output_type": "stream",
     "text": [
      "(1000, 5)\n"
     ]
    }
   ],
   "source": [
    "print(random_test_data.shape)"
   ]
  },
  {
   "cell_type": "code",
   "execution_count": 6,
   "metadata": {},
   "outputs": [],
   "source": [
    "# save the data in csv file\n",
    "# How to save the random data in csv\n",
    "np.savetxt(\"Random-Test-from-Numpy.csv\",\n",
    "           random_test_data,\n",
    "           fmt = \"%s\", delimiter = ',')\n"
   ]
  },
  {
   "cell_type": "code",
   "execution_count": 15,
   "metadata": {},
   "outputs": [
    {
     "name": "stdout",
     "output_type": "stream",
     "text": [
      "[[ 1.59077303  6.42174295 10.14698427  6.91500737  1.        ]\n",
      " [ 2.28243293  8.57902322 15.93309953  6.243605    1.        ]\n",
      " [ 1.81098674  5.17270135 -0.46878789  2.44997251  1.        ]\n",
      " ...\n",
      " [ 0.1973629   4.3465854   2.66485989  0.80935387  1.        ]\n",
      " [-2.21015722  8.2176402  12.69328115  0.50644607  2.        ]\n",
      " [ 2.91161235  7.90337695 11.79840961  4.86816939  1.        ]]\n"
     ]
    }
   ],
   "source": [
    "# np.loadtxt() it can not load categorical data\n",
    "# loadtxt is faster \n",
    "# but it breaks when we feed it incomplete or\n",
    "# ill - formatted datasets\n",
    "lending_co_data_numeric_1 = np.loadtxt('Random-Test-from-Numpy.csv', delimiter= ',')\n",
    "print(lending_co_data_numeric_1)"
   ]
  },
  {
   "cell_type": "code",
   "execution_count": 16,
   "metadata": {},
   "outputs": [
    {
     "name": "stdout",
     "output_type": "stream",
     "text": [
      "[[ 1.59077303  6.42174295 10.14698427  6.91500737  1.        ]\n",
      " [ 2.28243293  8.57902322 15.93309953  6.243605    1.        ]\n",
      " [ 1.81098674  5.17270135 -0.46878789  2.44997251  1.        ]\n",
      " ...\n",
      " [ 0.1973629   4.3465854   2.66485989  0.80935387  1.        ]\n",
      " [-2.21015722  8.2176402  12.69328115  0.50644607  2.        ]\n",
      " [ 2.91161235  7.90337695 11.79840961  4.86816939  1.        ]]\n"
     ]
    }
   ],
   "source": [
    "# np.loadtxt() vs np.genfromtxt()\n",
    "# genformtxt have more flexibility\n",
    "# slightly slower but can handle missing values\n",
    "lending_co_data_numeric_2 = np.genfromtxt('Random-Test-from-Numpy.csv', delimiter= ',')\n",
    "print(lending_co_data_numeric_2)"
   ]
  },
  {
   "cell_type": "code",
   "execution_count": 17,
   "metadata": {},
   "outputs": [
    {
     "data": {
      "text/plain": [
       "True"
      ]
     },
     "execution_count": 17,
     "metadata": {},
     "output_type": "execute_result"
    }
   ],
   "source": [
    "np.array_equal(lending_co_data_numeric_1, lending_co_data_numeric_2)"
   ]
  },
  {
   "cell_type": "code",
   "execution_count": 20,
   "metadata": {},
   "outputs": [
    {
     "name": "stdout",
     "output_type": "stream",
     "text": [
      "[[      nan       nan       nan ...       nan       nan       nan]\n",
      " [1.000e+00       nan       nan ...       nan       nan 1.660e+04]\n",
      " [2.000e+00       nan       nan ...       nan       nan 1.660e+04]\n",
      " ...\n",
      " [1.041e+03       nan       nan ...       nan       nan 1.660e+04]\n",
      " [1.042e+03       nan       nan ...       nan       nan 1.560e+04]\n",
      " [1.043e+03       nan       nan ...       nan       nan 1.660e+04]]\n"
     ]
    }
   ],
   "source": [
    "#np.genfromtxt() it will read categorical data \n",
    "# genformtxt have more flexibility\n",
    "# slightly slower but can handle missing values\n",
    "lending_co_data_numeric_2 = np.genfromtxt('lending-co-LT.csv', delimiter= ',')\n",
    "print(lending_co_data_numeric_2)"
   ]
  },
  {
   "cell_type": "code",
   "execution_count": 26,
   "metadata": {},
   "outputs": [
    {
     "name": "stdout",
     "output_type": "stream",
     "text": [
      "[[  -1   -1   -1 ...   -1   -1   -1]\n",
      " [   1   -1   -1 ...   -1   -1   -1]\n",
      " [   2   -1   -1 ...   -1   -1   -1]\n",
      " ...\n",
      " [1041   -1   -1 ...   -1   -1   -1]\n",
      " [1042   -1   -1 ...   -1   -1   -1]\n",
      " [1043   -1   -1 ...   -1   -1   -1]]\n"
     ]
    }
   ],
   "source": [
    "#np.genfromtxt() it will read categorical data \n",
    "# genformtxt have more flexibility\n",
    "# slightly slower but can handle missing values\n",
    "lending_co_data_numeric_2 = np.genfromtxt('lending-co-LT.csv',\n",
    "                                          delimiter= ',',\n",
    "                                          dtype= np.int64)\n",
    "print(lending_co_data_numeric_2)"
   ]
  },
  {
   "cell_type": "code",
   "execution_count": 27,
   "metadata": {},
   "outputs": [
    {
     "data": {
      "text/plain": [
       "0.5907730323967642"
      ]
     },
     "execution_count": 27,
     "metadata": {},
     "output_type": "execute_result"
    }
   ],
   "source": [
    "lending_co_data_numeric_1[0,0]+lending_co_data_numeric_2[0,1]"
   ]
  },
  {
   "cell_type": "code",
   "execution_count": null,
   "metadata": {},
   "outputs": [],
   "source": []
  },
  {
   "cell_type": "code",
   "execution_count": null,
   "metadata": {},
   "outputs": [],
   "source": []
  }
 ],
 "metadata": {
  "kernelspec": {
   "display_name": "Python 3",
   "language": "python",
   "name": "python3"
  },
  "language_info": {
   "codemirror_mode": {
    "name": "ipython",
    "version": 3
   },
   "file_extension": ".py",
   "mimetype": "text/x-python",
   "name": "python",
   "nbconvert_exporter": "python",
   "pygments_lexer": "ipython3",
   "version": "3.9.10"
  },
  "orig_nbformat": 4
 },
 "nbformat": 4,
 "nbformat_minor": 2
}
